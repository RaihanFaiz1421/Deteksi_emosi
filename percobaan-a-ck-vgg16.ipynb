{
 "cells": [
  {
   "cell_type": "markdown",
   "metadata": {},
   "source": [
    "**Program melatih model menggunakan VGG16**"
   ]
  },
  {
   "cell_type": "code",
   "execution_count": 1,
   "metadata": {
    "_cell_guid": "b1076dfc-b9ad-4769-8c92-a6c4dae69d19",
    "_uuid": "8f2839f25d086af736a60e9eeb907d3b93b6e0e5"
   },
   "outputs": [],
   "source": [
    "# Import library yang dibutuhkan\n",
    "import numpy as np\n",
    "import tensorflow as tf\n",
    "from tensorflow import keras\n",
    "from tensorflow.keras import layers\n",
    "from tensorflow.keras.preprocessing.image import ImageDataGenerator\n",
    "from tensorflow.keras.optimizers import Adam\n",
    "from sklearn.metrics import classification_report, confusion_matrix\n",
    "import matplotlib.pyplot as plt\n",
    "import splitfolders"
   ]
  },
  {
   "cell_type": "code",
   "execution_count": 2,
   "metadata": {},
   "outputs": [
    {
     "name": "stderr",
     "output_type": "stream",
     "text": [
      "Copying files: 981 files [00:10, 91.77 files/s] \n"
     ]
    }
   ],
   "source": [
    "# Path direktori data latihan dan validasi\n",
    "input_dir = 'C:/Users/RAIHAN FAIZ/Documents/Skripsi/Penelitian/Dataset/CK+48/dataset/'\n",
    "output_dir = 'C:/Users/RAIHAN FAIZ/Documents/Skripsi/Penelitian/Dataset/CK+48/split/'\n",
    "split_ratio = (0.6, 0.2, 0.2)  # Rasio pembagian train, val, test\n",
    "\n",
    "# Split folder\n",
    "splitfolders.ratio(input_dir, output=output_dir, seed=42, ratio=split_ratio)"
   ]
  },
  {
   "cell_type": "code",
   "execution_count": 3,
   "metadata": {},
   "outputs": [],
   "source": [
    "# Path direktori data train, validasi, dan test\n",
    "train_dir = output_dir + 'train'\n",
    "val_dir = output_dir + 'val'\n",
    "test_dir = output_dir + 'test'"
   ]
  },
  {
   "cell_type": "code",
   "execution_count": 4,
   "metadata": {},
   "outputs": [],
   "source": [
    "# Parameter model dan pelatihan\n",
    "input_shape = (48, 48, 3)\n",
    "num_classes = 7\n",
    "batch_size = 64\n",
    "epochs = 100"
   ]
  },
  {
   "cell_type": "code",
   "execution_count": 5,
   "metadata": {},
   "outputs": [],
   "source": [
    "# Membuat generator data latihan dengan augmentasi\n",
    "train_datagen = ImageDataGenerator(\n",
    "    rescale=1./255,\n",
    "    rotation_range=15,\n",
    "    shear_range=0.2,\n",
    "    zoom_range=0.2,\n",
    "    horizontal_flip=True,\n",
    "    vertical_flip=True  # Tambahkan pergeseran vertikal\n",
    ")\n",
    "\n",
    "# Membuat generator data validasi dan test tanpa augmentasi\n",
    "val_test_datagen = ImageDataGenerator(rescale=1./255)"
   ]
  },
  {
   "cell_type": "code",
   "execution_count": 6,
   "metadata": {},
   "outputs": [
    {
     "name": "stdout",
     "output_type": "stream",
     "text": [
      "Found 783 images belonging to 7 classes.\n",
      "Found 290 images belonging to 7 classes.\n",
      "Found 201 images belonging to 7 classes.\n"
     ]
    }
   ],
   "source": [
    "# Muat dan augmentasi data latihan\n",
    "train_generator = train_datagen.flow_from_directory(\n",
    "    train_dir,\n",
    "    color_mode='rgb',  # Ubah color_mode menjadi 'rgb'\n",
    "    target_size=(48, 48),\n",
    "    batch_size=batch_size,\n",
    "    class_mode='categorical'\n",
    ")\n",
    "\n",
    "# Muat data validasi\n",
    "val_generator = val_test_datagen.flow_from_directory(\n",
    "    val_dir,\n",
    "    color_mode='rgb',  # Ubah color_mode menjadi 'rgb'\n",
    "    target_size=(48, 48),\n",
    "    batch_size=batch_size,\n",
    "    class_mode='categorical'\n",
    ")\n",
    "\n",
    "# Muat data test\n",
    "test_generator = val_test_datagen.flow_from_directory(\n",
    "    test_dir,\n",
    "    color_mode='rgb',  # Ubah color_mode menjadi 'rgb'\n",
    "    target_size=(48, 48),\n",
    "    batch_size=batch_size,\n",
    "    class_mode='categorical',\n",
    "    shuffle=False\n",
    ")"
   ]
  },
  {
   "cell_type": "code",
   "execution_count": 7,
   "metadata": {},
   "outputs": [
    {
     "name": "stdout",
     "output_type": "stream",
     "text": [
      "Model: \"model\"\n",
      "_________________________________________________________________\n",
      " Layer (type)                Output Shape              Param #   \n",
      "=================================================================\n",
      " input_1 (InputLayer)        [(None, 48, 48, 3)]       0         \n",
      "                                                                 \n",
      " block1_conv1 (Conv2D)       (None, 48, 48, 64)        1792      \n",
      "                                                                 \n",
      " block1_conv2 (Conv2D)       (None, 48, 48, 64)        36928     \n",
      "                                                                 \n",
      " block1_pool (MaxPooling2D)  (None, 24, 24, 64)        0         \n",
      "                                                                 \n",
      " block2_conv1 (Conv2D)       (None, 24, 24, 128)       73856     \n",
      "                                                                 \n",
      " block2_conv2 (Conv2D)       (None, 24, 24, 128)       147584    \n",
      "                                                                 \n",
      " block2_pool (MaxPooling2D)  (None, 12, 12, 128)       0         \n",
      "                                                                 \n",
      " block3_conv1 (Conv2D)       (None, 12, 12, 256)       295168    \n",
      "                                                                 \n",
      " block3_conv2 (Conv2D)       (None, 12, 12, 256)       590080    \n",
      "                                                                 \n",
      " block3_conv3 (Conv2D)       (None, 12, 12, 256)       590080    \n",
      "                                                                 \n",
      " block3_pool (MaxPooling2D)  (None, 6, 6, 256)         0         \n",
      "                                                                 \n",
      " block4_conv1 (Conv2D)       (None, 6, 6, 512)         1180160   \n",
      "                                                                 \n",
      " block4_conv2 (Conv2D)       (None, 6, 6, 512)         2359808   \n",
      "                                                                 \n",
      " block4_conv3 (Conv2D)       (None, 6, 6, 512)         2359808   \n",
      "                                                                 \n",
      " block4_pool (MaxPooling2D)  (None, 3, 3, 512)         0         \n",
      "                                                                 \n",
      " block5_conv1 (Conv2D)       (None, 3, 3, 512)         2359808   \n",
      "                                                                 \n",
      " block5_conv2 (Conv2D)       (None, 3, 3, 512)         2359808   \n",
      "                                                                 \n",
      " block5_conv3 (Conv2D)       (None, 3, 3, 512)         2359808   \n",
      "                                                                 \n",
      " block5_pool (MaxPooling2D)  (None, 1, 1, 512)         0         \n",
      "                                                                 \n",
      " flatten (Flatten)           (None, 512)               0         \n",
      "                                                                 \n",
      " dense (Dense)               (None, 128)               65664     \n",
      "                                                                 \n",
      " dense_1 (Dense)             (None, 7)                 903       \n",
      "                                                                 \n",
      "=================================================================\n",
      "Total params: 14,781,255\n",
      "Trainable params: 14,781,255\n",
      "Non-trainable params: 0\n",
      "_________________________________________________________________\n"
     ]
    }
   ],
   "source": [
    "from tensorflow.keras.applications.vgg16 import VGG16\n",
    "from tensorflow.keras.models import Model\n",
    "\n",
    "# Membangun model VGG\n",
    "base_model = tf.keras.applications.VGG16(weights='imagenet', include_top=False, input_shape=(48, 48, 3))\n",
    "\n",
    "x = base_model.output\n",
    "x = layers.Flatten()(x)\n",
    "x = layers.Dense(128, activation='relu')(x)\n",
    "predictions = layers.Dense(num_classes, activation='softmax')(x)\n",
    "\n",
    "model = tf.keras.models.Model(inputs=base_model.input, outputs=predictions)\n",
    "model.summary()"
   ]
  },
  {
   "cell_type": "code",
   "execution_count": 8,
   "metadata": {},
   "outputs": [],
   "source": [
    "# Kompilasi model\n",
    "optimizer = Adam(learning_rate=0.0001)\n",
    "model.compile(optimizer=optimizer, loss='categorical_crossentropy', metrics=['accuracy'])"
   ]
  },
  {
   "cell_type": "code",
   "execution_count": 9,
   "metadata": {},
   "outputs": [],
   "source": [
    "# Callback untuk menghentikan pelatihan jika akurasi mencapai target\n",
    "class MyCallback(keras.callbacks.Callback):\n",
    "    def __init__(self, target_accuracy):\n",
    "        super(MyCallback, self).__init__()\n",
    "        self.target_accuracy = target_accuracy\n",
    "\n",
    "    def on_epoch_end(self, epoch, logs=None):\n",
    "        if logs is None:\n",
    "            logs = {}\n",
    "        val_accuracy = logs.get('val_accuracy')\n",
    "        if val_accuracy is not None and val_accuracy >= self.target_accuracy:\n",
    "            print(f\"\\nValidation accuracy reached {self.target_accuracy}. Training stopped.\")\n",
    "            self.model.stop_training = True\n",
    "\n",
    "# Set target accuracy yang diinginkan\n",
    "target_accuracy = 0.9\n",
    "callbacks = [MyCallback(target_accuracy)]"
   ]
  },
  {
   "cell_type": "code",
   "execution_count": 10,
   "metadata": {},
   "outputs": [
    {
     "name": "stdout",
     "output_type": "stream",
     "text": [
      "Epoch 1/100\n",
      "12/12 [==============================] - 31s 2s/step - loss: 1.8598 - accuracy: 0.2712 - val_loss: 1.6848 - val_accuracy: 0.4766\n",
      "Epoch 2/100\n",
      "12/12 [==============================] - 26s 2s/step - loss: 1.6003 - accuracy: 0.4312 - val_loss: 1.3500 - val_accuracy: 0.5195\n",
      "Epoch 3/100\n",
      "12/12 [==============================] - 26s 2s/step - loss: 1.4587 - accuracy: 0.4465 - val_loss: 1.4976 - val_accuracy: 0.4609\n",
      "Epoch 4/100\n",
      "12/12 [==============================] - 25s 2s/step - loss: 1.4080 - accuracy: 0.5076 - val_loss: 1.0338 - val_accuracy: 0.6953\n",
      "Epoch 5/100\n",
      "12/12 [==============================] - 25s 2s/step - loss: 1.0955 - accuracy: 0.6106 - val_loss: 0.8136 - val_accuracy: 0.7422\n",
      "Epoch 6/100\n",
      "12/12 [==============================] - 25s 2s/step - loss: 0.9718 - accuracy: 0.6467 - val_loss: 0.6390 - val_accuracy: 0.7734\n",
      "Epoch 7/100\n",
      "12/12 [==============================] - 25s 2s/step - loss: 0.8238 - accuracy: 0.6954 - val_loss: 0.6319 - val_accuracy: 0.7969\n",
      "Epoch 8/100\n",
      "12/12 [==============================] - 25s 2s/step - loss: 0.6315 - accuracy: 0.7580 - val_loss: 0.4934 - val_accuracy: 0.7812\n",
      "Epoch 9/100\n",
      "12/12 [==============================] - 25s 2s/step - loss: 0.4644 - accuracy: 0.8178 - val_loss: 0.4712 - val_accuracy: 0.8047\n",
      "Epoch 10/100\n",
      "12/12 [==============================] - 26s 2s/step - loss: 0.4174 - accuracy: 0.8414 - val_loss: 0.4157 - val_accuracy: 0.8203\n",
      "Epoch 11/100\n",
      "12/12 [==============================] - ETA: 0s - loss: 0.3897 - accuracy: 0.8637\n",
      "Validation accuracy reached 0.9. Training stopped.\n",
      "12/12 [==============================] - 26s 2s/step - loss: 0.3897 - accuracy: 0.8637 - val_loss: 0.1917 - val_accuracy: 0.9297\n"
     ]
    }
   ],
   "source": [
    "# Latih model menggunakan generator data dan callback\n",
    "history = model.fit(\n",
    "    train_generator,\n",
    "    steps_per_epoch=train_generator.samples // batch_size,\n",
    "    epochs=epochs,\n",
    "    validation_data=val_generator,\n",
    "    validation_steps=val_generator.samples // batch_size,\n",
    "    callbacks=callbacks\n",
    ")"
   ]
  },
  {
   "cell_type": "code",
   "execution_count": 11,
   "metadata": {},
   "outputs": [],
   "source": [
    "# Simpan model dengan metadata label\n",
    "model.save('emotion_model_vgg16.h5')"
   ]
  },
  {
   "cell_type": "markdown",
   "metadata": {},
   "source": [
    "**Menguji Model dengan Data Uji yang disiapkan**"
   ]
  },
  {
   "cell_type": "code",
   "execution_count": 12,
   "metadata": {},
   "outputs": [],
   "source": [
    "import random\n",
    "import os\n",
    "\n",
    "test_samples_dir = 'C:/Users/RAIHAN FAIZ/Documents/Skripsi/Penelitian/Dataset/CK+48/split/test'\n",
    "class_names = sorted(os.listdir(test_samples_dir))\n",
    "\n",
    "# Memilih 5 sampel acak dari setiap kelas emosi\n",
    "random_samples = {}\n",
    "for class_name in class_names:\n",
    "    class_dir = os.path.join(test_samples_dir, class_name)\n",
    "    sample_files = os.listdir(class_dir)\n",
    "    random_samples[class_name] = random.sample(sample_files, 5)"
   ]
  },
  {
   "cell_type": "code",
   "execution_count": 13,
   "metadata": {},
   "outputs": [
    {
     "name": "stdout",
     "output_type": "stream",
     "text": [
      "\n",
      "Emosi: anger\n",
      "1/1 [==============================] - 0s 318ms/step\n",
      "Gambar: S011_004_00000019.png => Prediksi: anger, Skor: 0.8147\n",
      "1/1 [==============================] - 0s 47ms/step\n",
      "Gambar: S045_005_00000030.png => Prediksi: anger, Skor: 0.6584\n",
      "1/1 [==============================] - 0s 56ms/step\n",
      "Gambar: S503_001_00000069.png => Prediksi: anger, Skor: 0.6838\n",
      "1/1 [==============================] - 0s 78ms/step\n",
      "Gambar: S032_003_00000016.png => Prediksi: anger, Skor: 0.9393\n",
      "1/1 [==============================] - 0s 47ms/step\n",
      "Gambar: S100_005_00000023.png => Prediksi: anger, Skor: 0.9256\n",
      "\n",
      "Emosi: disgust\n",
      "1/1 [==============================] - 0s 48ms/step\n",
      "Gambar: S068_005_00000021.png => Prediksi: disgust, Skor: 0.9911\n",
      "1/1 [==============================] - 0s 48ms/step\n",
      "Gambar: S057_003_00000014.png => Prediksi: disgust, Skor: 0.9759\n",
      "1/1 [==============================] - 0s 32ms/step\n",
      "Gambar: S116_006_00000005.png => Prediksi: disgust, Skor: 0.9974\n",
      "1/1 [==============================] - 0s 47ms/step\n",
      "Gambar: S134_008_00000011.png => Prediksi: disgust, Skor: 0.9861\n",
      "1/1 [==============================] - 0s 48ms/step\n",
      "Gambar: S111_007_00000014.png => Prediksi: disgust, Skor: 0.9987\n",
      "\n",
      "Emosi: fear\n",
      "1/1 [==============================] - 0s 31ms/step\n",
      "Gambar: S074_001_00000020.png => Prediksi: surprise, Skor: 0.5996\n",
      "1/1 [==============================] - 0s 47ms/step\n",
      "Gambar: S032_004_00000012.png => Prediksi: fear, Skor: 0.7060\n",
      "1/1 [==============================] - 0s 64ms/step\n",
      "Gambar: S032_004_00000013.png => Prediksi: fear, Skor: 0.5956\n",
      "1/1 [==============================] - 0s 47ms/step\n",
      "Gambar: S504_004_00000015.png => Prediksi: nuetral, Skor: 0.6648\n",
      "1/1 [==============================] - 0s 47ms/step\n",
      "Gambar: S050_001_00000017.png => Prediksi: fear, Skor: 0.8786\n",
      "\n",
      "Emosi: happy\n",
      "1/1 [==============================] - 0s 47ms/step\n",
      "Gambar: S132_006_00000022.png => Prediksi: happy, Skor: 0.9987\n",
      "1/1 [==============================] - 0s 32ms/step\n",
      "Gambar: S014_005_00000016.png => Prediksi: happy, Skor: 0.9972\n",
      "1/1 [==============================] - 0s 47ms/step\n",
      "Gambar: S089_002_00000019.png => Prediksi: happy, Skor: 1.0000\n",
      "1/1 [==============================] - 0s 47ms/step\n",
      "Gambar: S133_010_00000014.png => Prediksi: happy, Skor: 0.9999\n",
      "1/1 [==============================] - 0s 31ms/step\n",
      "Gambar: S132_006_00000023.png => Prediksi: happy, Skor: 0.9988\n",
      "\n",
      "Emosi: nuetral\n",
      "1/1 [==============================] - 0s 48ms/step\n",
      "Gambar: S147_002_00000011.png => Prediksi: nuetral, Skor: 0.6446\n",
      "1/1 [==============================] - 0s 48ms/step\n",
      "Gambar: S151_002_00000027.png => Prediksi: happy, Skor: 0.4247\n",
      "1/1 [==============================] - 0s 48ms/step\n",
      "Gambar: S505_002_00000021.png => Prediksi: nuetral, Skor: 0.8067\n",
      "1/1 [==============================] - 0s 48ms/step\n",
      "Gambar: S138_008_00000008.png => Prediksi: nuetral, Skor: 0.6809\n",
      "1/1 [==============================] - 0s 48ms/step\n",
      "Gambar: S147_002_00000013.png => Prediksi: nuetral, Skor: 0.7052\n",
      "\n",
      "Emosi: sad\n",
      "1/1 [==============================] - 0s 48ms/step\n",
      "Gambar: S131_003_00000022.png => Prediksi: anger, Skor: 0.5612\n",
      "1/1 [==============================] - 0s 48ms/step\n",
      "Gambar: S014_002_00000015.png => Prediksi: anger, Skor: 0.5465\n",
      "1/1 [==============================] - 0s 48ms/step\n",
      "Gambar: S506_006_00000042.png => Prediksi: sad, Skor: 0.5200\n",
      "1/1 [==============================] - 0s 64ms/step\n",
      "Gambar: S046_001_00000024.png => Prediksi: sad, Skor: 0.3853\n",
      "1/1 [==============================] - 0s 31ms/step\n",
      "Gambar: S095_010_00000014.png => Prediksi: anger, Skor: 0.3371\n",
      "\n",
      "Emosi: surprise\n",
      "1/1 [==============================] - 0s 48ms/step\n",
      "Gambar: S057_001_00000019.png => Prediksi: surprise, Skor: 0.6841\n",
      "1/1 [==============================] - 0s 47ms/step\n",
      "Gambar: S125_007_00000007.png => Prediksi: fear, Skor: 0.6648\n",
      "1/1 [==============================] - 0s 47ms/step\n",
      "Gambar: S037_001_00000020.png => Prediksi: surprise, Skor: 1.0000\n",
      "1/1 [==============================] - 0s 47ms/step\n",
      "Gambar: S075_002_00000012.png => Prediksi: surprise, Skor: 0.9982\n",
      "1/1 [==============================] - 0s 31ms/step\n",
      "Gambar: S137_001_00000014.png => Prediksi: surprise, Skor: 0.9967\n"
     ]
    }
   ],
   "source": [
    "from tensorflow.keras.preprocessing.image import load_img, img_to_array\n",
    "\n",
    "# Fungsi untuk menguji model pada satu sampel gambar\n",
    "def predict_emotion(model, image_path):\n",
    "    image = load_img(image_path, color_mode='rgb', target_size=(48, 48))\n",
    "    image_array = img_to_array(image) / 255.0\n",
    "    image_array = np.expand_dims(image_array, axis=0)\n",
    "    result = model.predict(image_array)\n",
    "    return result[0]\n",
    "\n",
    "# Proses pengujian\n",
    "for class_name, samples in random_samples.items():\n",
    "    print(f\"\\nEmosi: {class_name}\")\n",
    "    for sample_file in samples:\n",
    "        sample_path = os.path.join(test_samples_dir, class_name, sample_file)\n",
    "        result = predict_emotion(model, sample_path)\n",
    "        predicted_class = class_names[np.argmax(result)]\n",
    "        print(f\"Gambar: {sample_file} => Prediksi: {predicted_class}, Skor: {result.max():.4f}\")\n"
   ]
  },
  {
   "cell_type": "markdown",
   "metadata": {},
   "source": [
    "**Plot Akurasi dan Loss, Classification Report, dan Confusion Matrix**"
   ]
  },
  {
   "cell_type": "code",
   "execution_count": 14,
   "metadata": {},
   "outputs": [
    {
     "data": {
      "image/png": "[encoded data removed]",
      "text/plain": [
       "<Figure size 1000x500 with 2 Axes>"
      ]
     },
     "metadata": {},
     "output_type": "display_data"
    }
   ],
   "source": [
    "# Plot akurasi dan loss\n",
    "plt.figure(figsize=(10, 5))\n",
    "plt.subplot(1, 2, 1)\n",
    "plt.plot(history.history['accuracy'], label='Training Accuracy')\n",
    "plt.plot(history.history['val_accuracy'], label='Validation Accuracy')\n",
    "plt.xlabel('Epoch')\n",
    "plt.ylabel('Accuracy')\n",
    "plt.legend()\n",
    "plt.subplot(1, 2, 2)\n",
    "plt.plot(history.history['loss'], label='Training Loss')\n",
    "plt.plot(history.history['val_loss'], label='Validation Loss')\n",
    "plt.xlabel('Epoch')\n",
    "plt.ylabel('Loss')\n",
    "plt.legend()\n",
    "plt.show()"
   ]
  },
  {
   "cell_type": "code",
   "execution_count": 15,
   "metadata": {},
   "outputs": [
    {
     "name": "stdout",
     "output_type": "stream",
     "text": [
      "4/4 [==============================] - 1s 356ms/step - loss: 0.2212 - accuracy: 0.9055\n",
      "Test Loss: 0.22122342884540558\n",
      "Test Accuracy: 0.9054726362228394\n"
     ]
    }
   ],
   "source": [
    "# Evaluasi model pada data test\n",
    "test_loss, test_accuracy = model.evaluate(test_generator)\n",
    "print(\"Test Loss:\", test_loss)\n",
    "print(\"Test Accuracy:\", test_accuracy)"
   ]
  },
  {
   "cell_type": "code",
   "execution_count": 16,
   "metadata": {},
   "outputs": [
    {
     "name": "stdout",
     "output_type": "stream",
     "text": [
      "4/4 [==============================] - 1s 226ms/step\n"
     ]
    }
   ],
   "source": [
    "# Prediksi menggunakan model\n",
    "y_true = test_generator.classes\n",
    "y_pred = model.predict(test_generator)\n",
    "y_pred_classes = np.argmax(y_pred, axis=1)"
   ]
  },
  {
   "cell_type": "code",
   "execution_count": 17,
   "metadata": {},
   "outputs": [
    {
     "name": "stdout",
     "output_type": "stream",
     "text": [
      "Classification Report:\n",
      "              precision    recall  f1-score   support\n",
      "\n",
      "       anger       0.76      0.96      0.85        27\n",
      "     disgust       1.00      1.00      1.00        36\n",
      "        fear       0.90      0.60      0.72        15\n",
      "       happy       0.91      1.00      0.95        42\n",
      "     nuetral       0.83      0.83      0.83        12\n",
      "         sad       0.90      0.50      0.64        18\n",
      "    surprise       0.94      0.98      0.96        51\n",
      "\n",
      "    accuracy                           0.91       201\n",
      "   macro avg       0.89      0.84      0.85       201\n",
      "weighted avg       0.91      0.91      0.90       201\n",
      "\n"
     ]
    }
   ],
   "source": [
    "# Classification report\n",
    "target_names = list(test_generator.class_indices.keys())\n",
    "classification_rep = classification_report(y_true, y_pred_classes, target_names=target_names)\n",
    "print(\"Classification Report:\")\n",
    "print(classification_rep)"
   ]
  },
  {
   "cell_type": "code",
   "execution_count": 18,
   "metadata": {},
   "outputs": [
    {
     "name": "stdout",
     "output_type": "stream",
     "text": [
      "Confusion Matrix:\n",
      "[[26  0  0  0  0  1  0]\n",
      " [ 0 36  0  0  0  0  0]\n",
      " [ 0  0  9  2  2  0  2]\n",
      " [ 0  0  0 42  0  0  0]\n",
      " [ 0  0  0  2 10  0  0]\n",
      " [ 8  0  0  0  0  9  1]\n",
      " [ 0  0  1  0  0  0 50]]\n"
     ]
    }
   ],
   "source": [
    "# Confusion matrix\n",
    "confusion_mtx = confusion_matrix(y_true, y_pred_classes)\n",
    "print(\"Confusion Matrix:\")\n",
    "print(confusion_mtx)"
   ]
  },
  {
   "cell_type": "code",
   "execution_count": 19,
   "metadata": {
    "tags": []
   },
   "outputs": [
    {
     "data": {
      "image/png": "[encoded data removed]",
      "text/plain": [
       "<Figure size 800x600 with 2 Axes>"
      ]
     },
     "metadata": {},
     "output_type": "display_data"
    }
   ],
   "source": [
    "# Visualisasi confusion matrix\n",
    "plt.figure(figsize=(8, 6))\n",
    "plt.imshow(confusion_mtx, interpolation='nearest', cmap=plt.cm.Blues)\n",
    "plt.title('Confusion Matrix')\n",
    "plt.colorbar()\n",
    "tick_marks = np.arange(len(class_names))\n",
    "plt.xticks(tick_marks, class_names, rotation=90)\n",
    "plt.yticks(tick_marks, class_names)\n",
    "plt.tight_layout()\n",
    "plt.ylabel('True label')\n",
    "plt.xlabel('Predicted label')\n",
    "\n",
    "# Menambahkan angka pada matriks\n",
    "for i in range(confusion_mtx.shape[0]):\n",
    "    for j in range(confusion_mtx.shape[1]):\n",
    "        plt.text(j, i, str(confusion_mtx[i, j]), color='black', horizontalalignment='center', verticalalignment='center')\n",
    "\n",
    "plt.show()"
   ]
  }
 ],
 "metadata": {
  "kernelspec": {
   "display_name": "Python 3 (ipykernel)",
   "language": "python",
   "name": "python3"
  },
  "language_info": {
   "codemirror_mode": {
    "name": "ipython",
    "version": 3
   },
   "file_extension": ".py",
   "mimetype": "text/x-python",
   "name": "python",
   "nbconvert_exporter": "python",
   "pygments_lexer": "ipython3",
   "version": "3.10.9"
  }
 },
 "nbformat": 4,
 "nbformat_minor": 4
}
