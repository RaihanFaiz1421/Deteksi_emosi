{
 "cells": [
  {
   "cell_type": "markdown",
   "metadata": {},
   "source": [
    "**Program melatih model menggunakan Xception**"
   ]
  },
  {
   "cell_type": "code",
   "execution_count": 1,
   "metadata": {
    "_cell_guid": "b1076dfc-b9ad-4769-8c92-a6c4dae69d19",
    "_uuid": "8f2839f25d086af736a60e9eeb907d3b93b6e0e5"
   },
   "outputs": [],
   "source": [
    "# Import library yang dibutuhkan\n",
    "import numpy as np\n",
    "import tensorflow as tf\n",
    "from tensorflow import keras\n",
    "from tensorflow.keras import layers\n",
    "from tensorflow.keras.preprocessing.image import ImageDataGenerator\n",
    "from tensorflow.keras.optimizers import Adam\n",
    "from sklearn.metrics import classification_report, confusion_matrix\n",
    "import matplotlib.pyplot as plt\n",
    "import splitfolders"
   ]
  },
  {
   "cell_type": "code",
   "execution_count": 2,
   "metadata": {},
   "outputs": [
    {
     "name": "stderr",
     "output_type": "stream",
     "text": [
      "Copying files: 981 files [00:11, 87.74 files/s]\n"
     ]
    }
   ],
   "source": [
    "# Path direktori data latihan dan validasi\n",
    "input_dir = 'C:/Users/RAIHAN FAIZ/Documents/Skripsi/Penelitian/Dataset/CK+48/dataset/'\n",
    "output_dir = 'C:/Users/RAIHAN FAIZ/Documents/Skripsi/Penelitian/Percobaan/Percobaan D_Xception/CK+48/split/'\n",
    "split_ratio = (0.7, 0.2, 0.1)  # Rasio pembagian train, val, test\n",
    "\n",
    "# Split folder\n",
    "splitfolders.ratio(input_dir, output=output_dir, seed=42, ratio=split_ratio)"
   ]
  },
  {
   "cell_type": "code",
   "execution_count": 3,
   "metadata": {},
   "outputs": [],
   "source": [
    "# Path direktori data train, validasi, dan test\n",
    "train_dir = output_dir + 'train'\n",
    "val_dir = output_dir + 'val'\n",
    "test_dir = output_dir + 'test'"
   ]
  },
  {
   "cell_type": "code",
   "execution_count": 4,
   "metadata": {},
   "outputs": [],
   "source": [
    "# Parameter model dan pelatihan\n",
    "input_shape = (299, 299, 3)  # Ubah input shape menjadi (299, 299, 3)\n",
    "num_classes = 7\n",
    "batch_size = 64\n",
    "epochs = 100"
   ]
  },
  {
   "cell_type": "code",
   "execution_count": 5,
   "metadata": {},
   "outputs": [],
   "source": [
    "# Membuat generator data latihan dengan augmentasi\n",
    "train_datagen = ImageDataGenerator(\n",
    "    rescale=1./255,\n",
    "    rotation_range=15,\n",
    "    shear_range=0.2,\n",
    "    zoom_range=0.2,\n",
    "    horizontal_flip=True,\n",
    "    vertical_flip=True  # Tambahkan pergeseran vertikal\n",
    ")\n",
    "\n",
    "# Membuat generator data validasi dan test tanpa augmentasi\n",
    "val_test_datagen = ImageDataGenerator(rescale=1./255)"
   ]
  },
  {
   "cell_type": "code",
   "execution_count": 6,
   "metadata": {},
   "outputs": [
    {
     "name": "stdout",
     "output_type": "stream",
     "text": [
      "Found 682 images belonging to 7 classes.\n",
      "Found 193 images belonging to 7 classes.\n",
      "Found 106 images belonging to 7 classes.\n"
     ]
    }
   ],
   "source": [
    "# Muat dan augmentasi data latihan\n",
    "train_generator = train_datagen.flow_from_directory(\n",
    "    train_dir,\n",
    "    color_mode='rgb',\n",
    "    target_size=(299, 299),  # Ubah target size menjadi (299, 299)\n",
    "    batch_size=batch_size,\n",
    "    class_mode='categorical'\n",
    ")\n",
    "\n",
    "# Muat data validasi\n",
    "val_generator = val_test_datagen.flow_from_directory(\n",
    "    val_dir,\n",
    "    color_mode='rgb',\n",
    "    target_size=(299, 299),  # Ubah target size menjadi (299, 299)\n",
    "    batch_size=batch_size,\n",
    "    class_mode='categorical'\n",
    ")\n",
    "\n",
    "# Muat data test\n",
    "test_generator = val_test_datagen.flow_from_directory(\n",
    "    test_dir,\n",
    "    color_mode='rgb',\n",
    "    target_size=(299, 299),  # Ubah target size menjadi (299, 299)\n",
    "    batch_size=batch_size,\n",
    "    class_mode='categorical',\n",
    "    shuffle=False\n",
    ")"
   ]
  },
  {
   "cell_type": "code",
   "execution_count": 7,
   "metadata": {},
   "outputs": [
    {
     "name": "stdout",
     "output_type": "stream",
     "text": [
      "Model: \"sequential\"\n",
      "_________________________________________________________________\n",
      " Layer (type)                Output Shape              Param #   \n",
      "=================================================================\n",
      " xception (Functional)       (None, 10, 10, 2048)      20861480  \n",
      "                                                                 \n",
      " flatten (Flatten)           (None, 204800)            0         \n",
      "                                                                 \n",
      " dense (Dense)               (None, 256)               52429056  \n",
      "                                                                 \n",
      " dense_1 (Dense)             (None, 7)                 1799      \n",
      "                                                                 \n",
      "=================================================================\n",
      "Total params: 73,292,335\n",
      "Trainable params: 52,430,855\n",
      "Non-trainable params: 20,861,480\n",
      "_________________________________________________________________\n"
     ]
    }
   ],
   "source": [
    "from tensorflow.keras.applications import Xception\n",
    "from tensorflow.keras.layers import Flatten, Dense\n",
    "\n",
    "# Membangun model CNN dengan arsitektur Xception\n",
    "base_model = Xception(weights='imagenet', include_top=False, input_shape=input_shape)\n",
    "base_model.trainable = False\n",
    "\n",
    "model = keras.Sequential([\n",
    "    base_model,\n",
    "    Flatten(),\n",
    "    Dense(256, activation='relu'),\n",
    "    Dense(num_classes, activation='softmax')\n",
    "])\n",
    "\n",
    "model.summary()"
   ]
  },
  {
   "cell_type": "code",
   "execution_count": 8,
   "metadata": {},
   "outputs": [],
   "source": [
    "# Kompilasi model\n",
    "optimizer = Adam(learning_rate=0.0001)\n",
    "model.compile(optimizer=optimizer, loss='categorical_crossentropy', metrics=['accuracy'])"
   ]
  },
  {
   "cell_type": "code",
   "execution_count": 9,
   "metadata": {},
   "outputs": [],
   "source": [
    "# Callback untuk menghentikan pelatihan jika akurasi mencapai target\n",
    "class MyCallback(keras.callbacks.Callback):\n",
    "    def __init__(self, target_accuracy):\n",
    "        super(MyCallback, self).__init__()\n",
    "        self.target_accuracy = target_accuracy\n",
    "\n",
    "    def on_epoch_end(self, epoch, logs=None):\n",
    "        if logs is None:\n",
    "            logs = {}\n",
    "        val_accuracy = logs.get('val_accuracy')\n",
    "        if val_accuracy is not None and val_accuracy >= self.target_accuracy:\n",
    "            print(f\"\\nValidation accuracy reached {self.target_accuracy}. Training stopped.\")\n",
    "            self.model.stop_training = True\n",
    "\n",
    "# Set target accuracy yang diinginkan\n",
    "target_accuracy = 0.9\n",
    "callbacks = [MyCallback(target_accuracy)]"
   ]
  },
  {
   "cell_type": "code",
   "execution_count": 10,
   "metadata": {},
   "outputs": [
    {
     "name": "stdout",
     "output_type": "stream",
     "text": [
      "Epoch 1/100\n",
      "10/10 [==============================] - 98s 9s/step - loss: 2.6579 - accuracy: 0.3301 - val_loss: 1.2973 - val_accuracy: 0.5573\n",
      "Epoch 2/100\n",
      "10/10 [==============================] - 70s 7s/step - loss: 1.4104 - accuracy: 0.5421 - val_loss: 1.2835 - val_accuracy: 0.5260\n",
      "Epoch 3/100\n",
      "10/10 [==============================] - 72s 7s/step - loss: 1.0855 - accuracy: 0.6141 - val_loss: 0.9627 - val_accuracy: 0.6042\n",
      "Epoch 4/100\n",
      "10/10 [==============================] - 69s 7s/step - loss: 0.9477 - accuracy: 0.6812 - val_loss: 0.7610 - val_accuracy: 0.6979\n",
      "Epoch 5/100\n",
      "10/10 [==============================] - 70s 7s/step - loss: 0.8504 - accuracy: 0.7006 - val_loss: 0.6394 - val_accuracy: 0.7760\n",
      "Epoch 6/100\n",
      "10/10 [==============================] - 69s 7s/step - loss: 0.7799 - accuracy: 0.7411 - val_loss: 0.6583 - val_accuracy: 0.7760\n",
      "Epoch 7/100\n",
      "10/10 [==============================] - 73s 7s/step - loss: 0.6495 - accuracy: 0.7735 - val_loss: 0.6420 - val_accuracy: 0.7708\n",
      "Epoch 8/100\n",
      "10/10 [==============================] - 74s 8s/step - loss: 0.6169 - accuracy: 0.7859 - val_loss: 0.5553 - val_accuracy: 0.8177\n",
      "Epoch 9/100\n",
      "10/10 [==============================] - 73s 7s/step - loss: 0.5869 - accuracy: 0.7848 - val_loss: 0.5830 - val_accuracy: 0.8177\n",
      "Epoch 10/100\n",
      "10/10 [==============================] - 75s 8s/step - loss: 0.5763 - accuracy: 0.8026 - val_loss: 0.4416 - val_accuracy: 0.8438\n",
      "Epoch 11/100\n",
      "10/10 [==============================] - 70s 7s/step - loss: 0.5383 - accuracy: 0.8107 - val_loss: 0.5026 - val_accuracy: 0.8073\n",
      "Epoch 12/100\n",
      "10/10 [==============================] - 70s 7s/step - loss: 0.4589 - accuracy: 0.8382 - val_loss: 0.4524 - val_accuracy: 0.8542\n",
      "Epoch 13/100\n",
      "10/10 [==============================] - 73s 7s/step - loss: 0.4719 - accuracy: 0.8438 - val_loss: 0.5193 - val_accuracy: 0.7604\n",
      "Epoch 14/100\n",
      "10/10 [==============================] - 70s 7s/step - loss: 0.4532 - accuracy: 0.8576 - val_loss: 0.4827 - val_accuracy: 0.8229\n",
      "Epoch 15/100\n",
      "10/10 [==============================] - 69s 7s/step - loss: 0.4237 - accuracy: 0.8447 - val_loss: 0.5018 - val_accuracy: 0.8490\n",
      "Epoch 16/100\n",
      "10/10 [==============================] - 69s 7s/step - loss: 0.4504 - accuracy: 0.8430 - val_loss: 0.4459 - val_accuracy: 0.8177\n",
      "Epoch 17/100\n",
      "10/10 [==============================] - 72s 7s/step - loss: 0.4478 - accuracy: 0.8531 - val_loss: 0.4768 - val_accuracy: 0.8385\n",
      "Epoch 18/100\n",
      "10/10 [==============================] - 71s 7s/step - loss: 0.3902 - accuracy: 0.8722 - val_loss: 0.3926 - val_accuracy: 0.8750\n",
      "Epoch 19/100\n",
      "10/10 [==============================] - 75s 8s/step - loss: 0.4157 - accuracy: 0.8786 - val_loss: 0.4065 - val_accuracy: 0.8646\n",
      "Epoch 20/100\n",
      "10/10 [==============================] - ETA: 0s - loss: 0.3730 - accuracy: 0.8734\n",
      "Validation accuracy reached 0.9. Training stopped.\n",
      "10/10 [==============================] - 73s 7s/step - loss: 0.3730 - accuracy: 0.8734 - val_loss: 0.2886 - val_accuracy: 0.9010\n"
     ]
    }
   ],
   "source": [
    "# Latih model menggunakan generator data dan callback\n",
    "history = model.fit(\n",
    "    train_generator,\n",
    "    steps_per_epoch=train_generator.samples // batch_size,\n",
    "    epochs=epochs,\n",
    "    validation_data=val_generator,\n",
    "    validation_steps=val_generator.samples // batch_size,\n",
    "    callbacks=callbacks\n",
    ")"
   ]
  },
  {
   "cell_type": "code",
   "execution_count": 11,
   "metadata": {},
   "outputs": [],
   "source": [
    "# Simpan model dengan metadata label\n",
    "model.save('emotion_model_xception.h5')"
   ]
  },
  {
   "cell_type": "markdown",
   "metadata": {},
   "source": [
    "**Menguji Model dengan Data Uji yang disiapkan**"
   ]
  },
  {
   "cell_type": "code",
   "execution_count": 12,
   "metadata": {},
   "outputs": [],
   "source": [
    "import random\n",
    "import os\n",
    "\n",
    "test_samples_dir = 'C:/Users/RAIHAN FAIZ/Documents/Skripsi/Penelitian/Dataset/CK+48/split/test'\n",
    "class_names = sorted(os.listdir(test_samples_dir))\n",
    "\n",
    "# Memilih 5 sampel acak dari setiap kelas emosi\n",
    "random_samples = {}\n",
    "for class_name in class_names:\n",
    "    class_dir = os.path.join(test_samples_dir, class_name)\n",
    "    sample_files = os.listdir(class_dir)\n",
    "    random_samples[class_name] = random.sample(sample_files, 5)"
   ]
  },
  {
   "cell_type": "code",
   "execution_count": 14,
   "metadata": {},
   "outputs": [
    {
     "name": "stdout",
     "output_type": "stream",
     "text": [
      "\n",
      "Emosi: anger\n",
      "1/1 [==============================] - 1s 1s/step\n",
      "Gambar: S045_005_00000030.png => Prediksi: anger, Skor: 0.9358\n",
      "1/1 [==============================] - 0s 168ms/step\n",
      "Gambar: S072_005_00000017.png => Prediksi: anger, Skor: 0.9144\n",
      "1/1 [==============================] - 0s 170ms/step\n",
      "Gambar: S113_008_00000023.png => Prediksi: anger, Skor: 0.8090\n",
      "1/1 [==============================] - 0s 180ms/step\n",
      "Gambar: S037_003_00000022.png => Prediksi: anger, Skor: 0.7870\n",
      "1/1 [==============================] - 0s 166ms/step\n",
      "Gambar: S090_007_00000013.png => Prediksi: anger, Skor: 0.4820\n",
      "\n",
      "Emosi: disgust\n",
      "1/1 [==============================] - 0s 169ms/step\n",
      "Gambar: S055_003_00000009.png => Prediksi: disgust, Skor: 0.9117\n",
      "1/1 [==============================] - 0s 160ms/step\n",
      "Gambar: S065_005_00000007.png => Prediksi: anger, Skor: 0.6457\n",
      "1/1 [==============================] - 0s 170ms/step\n",
      "Gambar: S108_006_00000020.png => Prediksi: disgust, Skor: 0.7444\n",
      "1/1 [==============================] - 0s 172ms/step\n",
      "Gambar: S102_009_00000013.png => Prediksi: happy, Skor: 0.2722\n",
      "1/1 [==============================] - 0s 201ms/step\n",
      "Gambar: S061_004_00000022.png => Prediksi: disgust, Skor: 0.4555\n",
      "\n",
      "Emosi: fear\n",
      "1/1 [==============================] - 0s 205ms/step\n",
      "Gambar: S084_002_00000023.png => Prediksi: fear, Skor: 0.5391\n",
      "1/1 [==============================] - 0s 169ms/step\n",
      "Gambar: S999_003_00000055.png => Prediksi: fear, Skor: 0.8294\n",
      "1/1 [==============================] - 0s 157ms/step\n",
      "Gambar: S054_002_00000015.png => Prediksi: fear, Skor: 0.8650\n",
      "1/1 [==============================] - 0s 183ms/step\n",
      "Gambar: S068_004_00000009.png => Prediksi: fear, Skor: 0.8498\n",
      "1/1 [==============================] - 0s 181ms/step\n",
      "Gambar: S074_001_00000020.png => Prediksi: fear, Skor: 0.9278\n",
      "\n",
      "Emosi: happy\n",
      "1/1 [==============================] - 0s 191ms/step\n",
      "Gambar: S010_006_00000014.png => Prediksi: happy, Skor: 0.9038\n",
      "1/1 [==============================] - 0s 163ms/step\n",
      "Gambar: S072_006_00000022.png => Prediksi: happy, Skor: 0.9956\n",
      "1/1 [==============================] - 0s 166ms/step\n",
      "Gambar: S067_005_00000022.png => Prediksi: happy, Skor: 0.9829\n",
      "1/1 [==============================] - 0s 169ms/step\n",
      "Gambar: S062_004_00000024.png => Prediksi: happy, Skor: 0.9695\n",
      "1/1 [==============================] - 0s 157ms/step\n",
      "Gambar: S108_008_00000011.png => Prediksi: happy, Skor: 0.9637\n",
      "\n",
      "Emosi: nuetral\n",
      "1/1 [==============================] - 0s 174ms/step\n",
      "Gambar: S503_002_00000007.png => Prediksi: nuetral, Skor: 0.9901\n",
      "1/1 [==============================] - 0s 163ms/step\n",
      "Gambar: S505_002_00000021.png => Prediksi: nuetral, Skor: 0.7415\n",
      "1/1 [==============================] - 0s 172ms/step\n",
      "Gambar: S149_002_00000013.png => Prediksi: nuetral, Skor: 0.8513\n",
      "1/1 [==============================] - 0s 184ms/step\n",
      "Gambar: S151_002_00000029.png => Prediksi: happy, Skor: 0.4545\n",
      "1/1 [==============================] - 0s 186ms/step\n",
      "Gambar: S160_006_00000009.png => Prediksi: nuetral, Skor: 0.8686\n",
      "\n",
      "Emosi: sad\n",
      "1/1 [==============================] - 0s 172ms/step\n",
      "Gambar: S501_006_00000041.png => Prediksi: sad, Skor: 0.5071\n",
      "1/1 [==============================] - 0s 163ms/step\n",
      "Gambar: S081_002_00000022.png => Prediksi: surprise, Skor: 0.4595\n",
      "1/1 [==============================] - 0s 166ms/step\n",
      "Gambar: S503_006_00000020.png => Prediksi: sad, Skor: 0.8643\n",
      "1/1 [==============================] - 0s 177ms/step\n",
      "Gambar: S137_005_00000026.png => Prediksi: anger, Skor: 0.5868\n",
      "1/1 [==============================] - 0s 168ms/step\n",
      "Gambar: S506_006_00000042.png => Prediksi: sad, Skor: 0.9934\n",
      "\n",
      "Emosi: surprise\n",
      "1/1 [==============================] - 0s 163ms/step\n",
      "Gambar: S133_009_00000006.png => Prediksi: surprise, Skor: 0.9744\n",
      "1/1 [==============================] - 0s 166ms/step\n",
      "Gambar: S051_002_00000018.png => Prediksi: surprise, Skor: 0.6689\n",
      "1/1 [==============================] - 0s 162ms/step\n",
      "Gambar: S125_007_00000007.png => Prediksi: surprise, Skor: 0.8581\n",
      "1/1 [==============================] - 0s 169ms/step\n",
      "Gambar: S035_001_00000015.png => Prediksi: surprise, Skor: 1.0000\n",
      "1/1 [==============================] - 0s 164ms/step\n",
      "Gambar: S061_001_00000012.png => Prediksi: surprise, Skor: 0.9990\n"
     ]
    }
   ],
   "source": [
    "from tensorflow.keras.preprocessing.image import load_img, img_to_array\n",
    "\n",
    "# Fungsi untuk menguji model pada satu sampel gambar\n",
    "def predict_emotion(model, image_path):\n",
    "    image = load_img(image_path, color_mode='rgb', target_size=(299, 299))\n",
    "    image_array = img_to_array(image) / 255.0\n",
    "    image_array = np.expand_dims(image_array, axis=0)\n",
    "    result = model.predict(image_array)\n",
    "    return result[0]\n",
    "\n",
    "# Proses pengujian\n",
    "for class_name, samples in random_samples.items():\n",
    "    print(f\"\\nEmosi: {class_name}\")\n",
    "    for sample_file in samples:\n",
    "        sample_path = os.path.join(test_samples_dir, class_name, sample_file)\n",
    "        result = predict_emotion(model, sample_path)\n",
    "        predicted_class = class_names[np.argmax(result)]\n",
    "        print(f\"Gambar: {sample_file} => Prediksi: {predicted_class}, Skor: {result.max():.4f}\")\n"
   ]
  },
  {
   "cell_type": "markdown",
   "metadata": {},
   "source": [
    "**Plot Akurasi dan Loss, Classification Report, dan Confusion Matrix**"
   ]
  },
  {
   "cell_type": "code",
   "execution_count": 15,
   "metadata": {},
   "outputs": [
    {
     "data": {
      "image/png": "[encoded data removed]",
      "text/plain": [
       "<Figure size 1000x500 with 2 Axes>"
      ]
     },
     "metadata": {},
     "output_type": "display_data"
    }
   ],
   "source": [
    "# Plot akurasi dan loss\n",
    "plt.figure(figsize=(10, 5))\n",
    "plt.subplot(1, 2, 1)\n",
    "plt.plot(history.history['accuracy'], label='Training Accuracy')\n",
    "plt.plot(history.history['val_accuracy'], label='Validation Accuracy')\n",
    "plt.xlabel('Epoch')\n",
    "plt.ylabel('Accuracy')\n",
    "plt.legend()\n",
    "plt.subplot(1, 2, 2)\n",
    "plt.plot(history.history['loss'], label='Training Loss')\n",
    "plt.plot(history.history['val_loss'], label='Validation Loss')\n",
    "plt.xlabel('Epoch')\n",
    "plt.ylabel('Loss')\n",
    "plt.legend()\n",
    "plt.show()"
   ]
  },
  {
   "cell_type": "code",
   "execution_count": 16,
   "metadata": {},
   "outputs": [
    {
     "name": "stdout",
     "output_type": "stream",
     "text": [
      "2/2 [==============================] - 8s 3s/step - loss: 0.3419 - accuracy: 0.8774\n",
      "Test Loss: 0.3419276177883148\n",
      "Test Accuracy: 0.8773584961891174\n"
     ]
    }
   ],
   "source": [
    "# Evaluasi model pada data test\n",
    "test_loss, test_accuracy = model.evaluate(test_generator)\n",
    "print(\"Test Loss:\", test_loss)\n",
    "print(\"Test Accuracy:\", test_accuracy)"
   ]
  },
  {
   "cell_type": "code",
   "execution_count": 17,
   "metadata": {},
   "outputs": [
    {
     "name": "stdout",
     "output_type": "stream",
     "text": [
      "2/2 [==============================] - 8s 3s/step\n"
     ]
    }
   ],
   "source": [
    "# Prediksi menggunakan model\n",
    "y_true = test_generator.classes\n",
    "y_pred = model.predict(test_generator)\n",
    "y_pred_classes = np.argmax(y_pred, axis=1)"
   ]
  },
  {
   "cell_type": "code",
   "execution_count": 18,
   "metadata": {},
   "outputs": [
    {
     "name": "stdout",
     "output_type": "stream",
     "text": [
      "Classification Report:\n",
      "              precision    recall  f1-score   support\n",
      "\n",
      "       anger       0.72      0.93      0.81        14\n",
      "     disgust       1.00      0.68      0.81        19\n",
      "        fear       0.88      0.88      0.88         8\n",
      "       happy       0.85      1.00      0.92        22\n",
      "     nuetral       1.00      0.43      0.60         7\n",
      "         sad       0.90      0.90      0.90        10\n",
      "    surprise       0.93      1.00      0.96        26\n",
      "\n",
      "    accuracy                           0.88       106\n",
      "   macro avg       0.90      0.83      0.84       106\n",
      "weighted avg       0.89      0.88      0.87       106\n",
      "\n"
     ]
    }
   ],
   "source": [
    "# Classification report\n",
    "target_names = list(test_generator.class_indices.keys())\n",
    "classification_rep = classification_report(y_true, y_pred_classes, target_names=target_names)\n",
    "print(\"Classification Report:\")\n",
    "print(classification_rep)"
   ]
  },
  {
   "cell_type": "code",
   "execution_count": 19,
   "metadata": {},
   "outputs": [
    {
     "name": "stdout",
     "output_type": "stream",
     "text": [
      "Confusion Matrix:\n",
      "[[13  0  0  0  0  1  0]\n",
      " [ 5 13  0  1  0  0  0]\n",
      " [ 0  0  7  1  0  0  0]\n",
      " [ 0  0  0 22  0  0  0]\n",
      " [ 0  0  1  2  3  0  1]\n",
      " [ 0  0  0  0  0  9  1]\n",
      " [ 0  0  0  0  0  0 26]]\n"
     ]
    }
   ],
   "source": [
    "# Confusion matrix\n",
    "confusion_mtx = confusion_matrix(y_true, y_pred_classes)\n",
    "print(\"Confusion Matrix:\")\n",
    "print(confusion_mtx)"
   ]
  },
  {
   "cell_type": "code",
   "execution_count": 20,
   "metadata": {
    "tags": []
   },
   "outputs": [
    {
     "data": {
      "image/png": "[encoded data removed]",
      "text/plain": [
       "<Figure size 800x600 with 2 Axes>"
      ]
     },
     "metadata": {},
     "output_type": "display_data"
    }
   ],
   "source": [
    "# Visualisasi confusion matrix\n",
    "plt.figure(figsize=(8, 6))\n",
    "plt.imshow(confusion_mtx, interpolation='nearest', cmap=plt.cm.Blues)\n",
    "plt.title('Confusion Matrix')\n",
    "plt.colorbar()\n",
    "tick_marks = np.arange(len(class_names))\n",
    "plt.xticks(tick_marks, class_names, rotation=90)\n",
    "plt.yticks(tick_marks, class_names)\n",
    "plt.tight_layout()\n",
    "plt.ylabel('True label')\n",
    "plt.xlabel('Predicted label')\n",
    "\n",
    "# Menambahkan angka pada matriks\n",
    "for i in range(confusion_mtx.shape[0]):\n",
    "    for j in range(confusion_mtx.shape[1]):\n",
    "        plt.text(j, i, str(confusion_mtx[i, j]), color='black', horizontalalignment='center', verticalalignment='center')\n",
    "\n",
    "plt.show()"
   ]
  }
 ],
 "metadata": {
  "kernelspec": {
   "display_name": "Python 3 (ipykernel)",
   "language": "python",
   "name": "python3"
  },
  "language_info": {
   "codemirror_mode": {
    "name": "ipython",
    "version": 3
   },
   "file_extension": ".py",
   "mimetype": "text/x-python",
   "name": "python",
   "nbconvert_exporter": "python",
   "pygments_lexer": "ipython3",
   "version": "3.10.9"
  }
 },
 "nbformat": 4,
 "nbformat_minor": 4
}
